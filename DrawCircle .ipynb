{
 "cells": [
  {
   "cell_type": "code",
   "execution_count": 1,
   "id": "f96fecd5",
   "metadata": {},
   "outputs": [],
   "source": [
    "import turtle \n",
    "t = turtle.Turtle()\n",
    "t.pensize(5)\n",
    "t.pencolor('blue')\n",
    "t.fillcolor('blue')\n",
    "t.begin_fill()\n",
    "t.circle(100)\n",
    "t.end_fill()\n",
    "\n"
   ]
  },
  {
   "cell_type": "code",
   "execution_count": 2,
   "id": "ffb48111",
   "metadata": {},
   "outputs": [],
   "source": [
    "#đặt màu sắc cho viền hình tròn là màu xanh\n",
    "t.pencolor (\"blue\")\n",
    "\n",
    "#đặt màu nền cho hình tròn là màu đỏ\n",
    "t.fillcolor (\"red\")\n",
    "t.begin_fill()\n",
    "\n",
    "#đặt bán kính của hình tròn là 150\n",
    "t.circle (150)\n",
    "t.end_fill()\n",
    "\n"
   ]
  },
  {
   "cell_type": "code",
   "execution_count": null,
   "id": "d6556067",
   "metadata": {},
   "outputs": [],
   "source": [
    "#đặt màu sắc cho viền hình tròn là màu đỏ\n",
    "t.pencolor (\"red\")\n",
    "\n",
    "#tuỳ chỉnh điểm bắt đầu vẽ hình tròn\n",
    "t.goto(-40, 120)\n",
    "#đặt màu nền cho hình tròn là màu đỏ\n",
    "t.fillcolor (\"red\")\n",
    "t.begin_fill()\n",
    "\n",
    "#đặt bán kính của hình tròn là 150\n",
    "t.circle (150)\n",
    "t.end_fill()"
   ]
  }
 ],
 "metadata": {
  "kernelspec": {
   "display_name": "Python 3 (ipykernel)",
   "language": "python",
   "name": "python3"
  },
  "language_info": {
   "codemirror_mode": {
    "name": "ipython",
    "version": 3
   },
   "file_extension": ".py",
   "mimetype": "text/x-python",
   "name": "python",
   "nbconvert_exporter": "python",
   "pygments_lexer": "ipython3",
   "version": "3.9.12"
  }
 },
 "nbformat": 4,
 "nbformat_minor": 5
}
